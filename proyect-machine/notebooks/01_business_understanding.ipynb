{
 "cells": [
  {
   "cell_type": "markdown",
   "id": "1e635dc7-bd42-4013-a804-c31f2aab3261",
   "metadata": {},
   "source": [
    "Contexto del Negocio\n",
    "\n",
    "La industria del cine y las plataformas de streaming generan enormes cantidades de datos sobre películas, incluyendo información de producción, género, duración, presupuesto, ingresos y calificaciones de los usuarios. Comprender qué factores influyen en la popularidad, calificación o éxito financiero de una película es crucial para estudios de mercado, estrategias de lanzamiento y recomendaciones personalizadas.\n",
    "\n",
    "El dataset The Movies Dataset (TMDb) recopila información detallada de miles de películas, incluyendo metadatos de producción, créditos, keywords y ratings de usuarios. Este conjunto de datos permite analizar y modelar los determinantes de la popularidad y el éxito de las películas mediante técnicas de machine learning."
   ]
  },
  {
   "cell_type": "markdown",
   "id": "b1e8b9a5-730b-437f-b97d-e37fc276b344",
   "metadata": {},
   "source": [
    "Objetivo del proyecto\n",
    "\n",
    "Desarrollar un sistema de análisis y modelado de datos que permita identificar y predecir los factores más influyentes en la popularidad, calificación o tiempo de visualización de películas, con el fin de generar insights estratégicos para estudios de mercado, recomendaciones personalizadas y optimización de contenido."
   ]
  },
  {
   "cell_type": "markdown",
   "id": "68e5c85a-4e3e-4f9f-a431-7282073daff7",
   "metadata": {},
   "source": [
    "Objetivos específicos\n",
    "\n",
    "Identificar factores que se correlacionan con calificaciones altas de los usuarios.\n",
    "\n",
    "Explorar el impacto de géneros, duración, presupuesto y año de estreno sobre la popularidad y ratings.\n",
    "\n",
    "Establecer las bases para entrenar modelos de clasificación (por ejemplo, género más popular) y regresión (predicción de ratings o ingresos)."
   ]
  },
  {
   "cell_type": "markdown",
   "id": "5a67feef-2a1b-4d9f-adba-cd211419ab32",
   "metadata": {},
   "source": [
    "Evaluar la situación actual\n",
    "\n",
    "Problema:\n",
    "Los estudios de cine y plataformas de streaming suelen tomar decisiones sobre producciones y recomendaciones basadas en intuición o experiencia previa, sin contar con evidencia cuantitativa clara que respalde estas decisiones. Esto limita la optimización de recursos y la capacidad de predecir el éxito de nuevas películas.\n",
    "\n",
    "Oportunidad:\n",
    "El análisis de los datos recopilados en The Movies Dataset permite transformar información en conocimiento estratégico mediante técnicas de machine learning y análisis exploratorio. Entre otras cosas, se puede:\n",
    "\n",
    "Identificar patrones de éxito según género, director, actores.\n",
    "\n",
    "Reconocer combinaciones de factores que influyen en las calificaciones de los usuarios.\n",
    "\n",
    "Cuantificar la influencia de la duración, presupuesto o año de estreno sobre el éxito de la película."
   ]
  },
  {
   "cell_type": "markdown",
   "id": "289312da-4dbd-4d11-95e3-7206d671e352",
   "metadata": {},
   "source": [
    "Objetivos de Machine Learning\n",
    "\n",
    "Analizar y comprender los datos del dataset: realizar una exploración inicial (EDA) para identificar patrones, distribuciones, correlaciones de las peliculas.\n",
    "\n",
    "Realizar limpieza y preparación de datos: tratar valores faltantes y normalizar variables, asegurando que el dataset final sea adecuado para entrenamiento de modelos."
   ]
  },
  {
   "cell_type": "markdown",
   "id": "ec1484ac-4d41-4bbf-b2a5-707bee4f4e1e",
   "metadata": {},
   "source": [
    "Plan del Proyecto \n",
    "\n",
    "Fase 1: Comprensión del Negocio\n",
    "\n",
    "Definir objetivos del proyecto\n",
    "Evaluar la situación actual\n",
    "Determinar objetivos de Machine Learning\n",
    "Producir plan del proyecto\n",
    "\n",
    "Fase 2: Comprensión de los Datos\n",
    "\n",
    "Recolectar datos iniciales \n",
    "Describir los datos\n",
    "Explorar los datos \n",
    "Verificar calidad de los datos\n",
    "\n",
    "Fase 3: Preparación de los Datos\n",
    "\n",
    "Seleccionar los datos relevantes\n",
    "Limpiar los datos \n",
    "Construir nuevas variables \n",
    "Integrar datos de múltiples fuentes\n",
    "Formatear y transformar datos"
   ]
  },
  {
   "cell_type": "markdown",
   "id": "d398067e-43e9-412d-a403-c6e4d6405569",
   "metadata": {},
   "source": [
    "Pregunta de regresión:\n",
    "¿Qué factores influyen en la calificación promedio de una película y cómo predecirla en función de género, duración, presupuesto, año de estreno y actores/directores?\n",
    "\n",
    "Variable objetivo: vote_average\n",
    "\n",
    "Pregunta de clasificación:\n",
    "¿Qué género es más popular según los ratings y el número de visualizaciones?\n",
    "\n",
    "Variable objetivo: genres"
   ]
  }
 ],
 "metadata": {
  "kernelspec": {
   "display_name": "Python 3 (ipykernel)",
   "language": "python",
   "name": "python3"
  },
  "language_info": {
   "codemirror_mode": {
    "name": "ipython",
    "version": 3
   },
   "file_extension": ".py",
   "mimetype": "text/x-python",
   "name": "python",
   "nbconvert_exporter": "python",
   "pygments_lexer": "ipython3",
   "version": "3.13.7"
  }
 },
 "nbformat": 4,
 "nbformat_minor": 5
}
