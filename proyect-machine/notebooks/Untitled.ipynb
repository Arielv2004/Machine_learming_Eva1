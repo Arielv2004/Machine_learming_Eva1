{
 "cells": [
  {
   "cell_type": "code",
   "execution_count": null,
   "id": "c41a5aee-ec69-4356-a092-6756404c995b",
   "metadata": {},
   "outputs": [],
   "source": [
    "* Contexto del Negocio\n",
    "\n",
    "* Valorant es un juego competitivo de disparos táctico desarrollado por Riot Games, donde el éxito en cada partida depende de múltiples factores: estrategia de equipo, elección de agentes, conocimiento de mapas, precisión de disparo y coordinación de roles.\n",
    "\n",
    "En el ámbito competitivo, los jugadores participan en partidas clasificatorias con el objetivo de mejorar su ranking y rendimiento. Debido a la complejidad y a la variedad de variables que influyen en los resultados, entender qué factores se asocian con la victoria representa un desafío tanto para jugadores individuales como para equipos profesionales.\n",
    "\n",
    "El dataset seleccionado Valorant Stats Dataset (Kaggle o fuente similar) recopila información detallada de partidas, incluyendo estadísticas de jugadores, agentes, mapas, armas y resultados de partidas. Este conjunto de datos permite analizar y modelar los determinantes del rendimiento y la victoria usando técnicas de Machine Learning."
   ]
  },
  {
   "cell_type": "code",
   "execution_count": null,
   "id": "bfd50b2d-f87a-4d0b-9f48-e00fc6ba210a",
   "metadata": {},
   "outputs": [],
   "source": []
  },
  {
   "cell_type": "code",
   "execution_count": null,
   "id": "f28e466c-7a0d-40db-b8a7-c4aa0443c9f6",
   "metadata": {},
   "outputs": [],
   "source": []
  },
  {
   "cell_type": "code",
   "execution_count": null,
   "id": "cdf99b88-993b-45fd-b8da-aa4605a74908",
   "metadata": {},
   "outputs": [],
   "source": []
  },
  {
   "cell_type": "code",
   "execution_count": null,
   "id": "c862d79b-46bb-42c1-b567-ff2e82494596",
   "metadata": {},
   "outputs": [],
   "source": []
  }
 ],
 "metadata": {
  "kernelspec": {
   "display_name": "Python 3 (ipykernel)",
   "language": "python",
   "name": "python3"
  },
  "language_info": {
   "codemirror_mode": {
    "name": "ipython",
    "version": 3
   },
   "file_extension": ".py",
   "mimetype": "text/x-python",
   "name": "python",
   "nbconvert_exporter": "python",
   "pygments_lexer": "ipython3",
   "version": "3.13.7"
  }
 },
 "nbformat": 4,
 "nbformat_minor": 5
}
