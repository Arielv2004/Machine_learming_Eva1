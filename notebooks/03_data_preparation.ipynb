{
 "cells": [
  {
   "cell_type": "markdown",
   "id": "27c7e1cc",
   "metadata": {},
   "source": [
    "# Fase 3: Preparación de los Datos\n"
   ]
  },
  {
   "cell_type": "markdown",
   "id": "f4719e3a",
   "metadata": {},
   "source": [
    "# Fase 3: Preparación de los Datos\n",
    "En este notebook se ejecuta el pipeline de **data_engineering** de Kedro.\n",
    "El objetivo es:\n",
    "- Seleccionar variables relevantes\n",
    "- Limpiar datos (nulos, duplicados, outliers)\n",
    "- Crear nuevas variables (main_genre, release_year)\n",
    "- Integrar `movies_metadata`, `credits` y `ratings`\n",
    "- Guardar dataset final listo para análisis/modelado"
   ]
  },
  {
   "cell_type": "markdown",
   "id": "61e072ba",
   "metadata": {},
   "source": [
    " \n",
    "# Cargar extensiones de Kedro"
   ]
  },
  {
   "cell_type": "code",
   "execution_count": null,
   "id": "b18a777f",
   "metadata": {},
   "outputs": [],
   "source": [
    "%load_ext kedro.ipython\n"
   ]
  },
  {
   "cell_type": "markdown",
   "id": "7c57c560",
   "metadata": {},
   "source": [
    "# Inspeccionar los datasets RAW\n"
   ]
  },
  {
   "cell_type": "code",
   "execution_count": null,
   "id": "7cd0d658",
   "metadata": {},
   "outputs": [],
   "source": [
    "catalog = context.catalog\n",
    "\n",
    "movies_metadata = catalog.load(\"movies_metadata\")\n",
    "credits = catalog.load(\"credits\")\n",
    "ratings = catalog.load(\"ratings\")\n",
    "\n",
    "\n",
    "print(\"Movies Metadata:\", movies_metadata.shape)\n",
    "print(\"Credits:\", credits.shape)\n",
    "print(\"Ratings:\", ratings.shape)\n",
    "\n",
    "display(movies_metadata.head(3))\n",
    "display(credits.head(3))\n",
    "display(ratings.head(3))\n"
   ]
  },
  {
   "cell_type": "markdown",
   "id": "9b4c29dc",
   "metadata": {},
   "source": [
    "## 1. Ejecutar el pipeline de `data_engineering`"
   ]
  },
  {
   "cell_type": "code",
   "execution_count": null,
   "id": "bbba6598",
   "metadata": {},
   "outputs": [],
   "source": [
    "%run_pipeline data_engineering"
   ]
  },
  {
   "cell_type": "markdown",
   "id": "284f598a",
   "metadata": {},
   "source": [
    "## 2. Cargar datasets generados en cada paso"
   ]
  },
  {
   "cell_type": "code",
   "execution_count": null,
   "id": "eb39a348",
   "metadata": {},
   "outputs": [],
   "source": [
    "movies_selected = catalog.load(\"movies_selected\")\n",
    "movies_clean = catalog.load(\"movies_clean\")\n",
    "movies_with_genre = catalog.load(\"movies_with_genre\")\n",
    "movies_with_credits = catalog.load(\"movies_with_credits\")\n",
    "movies_final = catalog.load(\"movies_final\")\n",
    "\n",
    "# Mostrar tamaños de cada dataset\n",
    "print(\"movies_selected:\", movies_selected.shape)\n",
    "print(\"movies_clean:\", movies_clean.shape)\n",
    "print(\"movies_with_genre:\", movies_with_genre.shape)\n",
    "print(\"movies_with_credits:\", movies_with_credits.shape)\n",
    "print(\"movies_final:\", movies_final.shape)\n"
   ]
  },
  {
   "cell_type": "markdown",
   "id": "2a5832f0",
   "metadata": {},
   "source": [
    "## 3. Comparar antes y después de la limpieza"
   ]
  },
  {
   "cell_type": "code",
   "execution_count": null,
   "id": "cbd77031",
   "metadata": {},
   "outputs": [],
   "source": [
    "dup_movies = movies_metadata.duplicated().sum()\n",
    "dup_clean = movies_clean.duplicated().sum()"
   ]
  },
  {
   "cell_type": "code",
   "execution_count": null,
   "id": "e3d281f3",
   "metadata": {},
   "outputs": [],
   "source": [
    "\n",
    "print(\"Duplicados en movies_metadata:\", dup_movies)\n",
    "print(\"Duplicados en movies_clean:\", dup_clean)\n",
    "\n",
    "# Nulos antes vs después\n",
    "print(\"\\nNulos en movies_metadata:\")\n",
    "print(movies_metadata.isnull().sum().head())\n",
    "\n",
    "print(\"\\nNulos en movies_clean:\")\n",
    "print(movies_clean.isnull().sum().head())\n",
    "\n"
   ]
  },
  {
   "cell_type": "markdown",
   "id": "8808e3ee",
   "metadata": {},
   "source": [
    "## 4. Variables creadas (release_year y main_genre)"
   ]
  },
  {
   "cell_type": "code",
   "execution_count": null,
   "id": "64768cf1",
   "metadata": {},
   "outputs": [],
   "source": [
    "print(movies_with_genre[[\"title\", \"release_year\", \"main_genre\"]].head(10))"
   ]
  },
  {
   "cell_type": "markdown",
   "id": "e4d15aad",
   "metadata": {},
   "source": [
    "## 5. Dataset final integrado"
   ]
  },
  {
   "cell_type": "code",
   "execution_count": null,
   "id": "672277b5",
   "metadata": {},
   "outputs": [],
   "source": [
    "print(movies_final.head(5))"
   ]
  },
  {
   "cell_type": "markdown",
   "id": "4f44bf5e",
   "metadata": {},
   "source": [
    "## 6. Visualización rápida de datos preparados"
   ]
  },
  {
   "cell_type": "code",
   "execution_count": null,
   "id": "9b20e7da",
   "metadata": {},
   "outputs": [],
   "source": [
    "import seaborn as sns\n",
    "import matplotlib.pyplot as plt\n",
    "\n",
    "plt.figure(figsize=(10,6))\n",
    "sns.histplot(movies_clean[\"runtime\"], bins=50, kde=False, color=\"coral\")\n",
    "plt.title(\"Distribución de la duración de películas (limpia)\")\n",
    "plt.xlabel(\"Duración (minutos)\")\n",
    "plt.ylabel(\"Cantidad de películas\")\n",
    "plt.show()\n",
    "\n",
    "plt.figure(figsize=(12,6))\n",
    "sns.countplot(data=movies_with_genre, x=\"main_genre\",\n",
    "              order=movies_with_genre[\"main_genre\"].value_counts().index)\n",
    "plt.xticks(rotation=45)\n",
    "plt.title(\"Número de películas por género principal (limpio)\")\n",
    "plt.show()"
   ]
  }
 ],
 "metadata": {
  "kernelspec": {
   "display_name": "venv",
   "language": "python",
   "name": "python3"
  },
  "language_info": {
   "name": "python",
   "version": "3.13.7"
  }
 },
 "nbformat": 4,
 "nbformat_minor": 5
}
